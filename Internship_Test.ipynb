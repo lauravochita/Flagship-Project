{
 "nbformat": 4,
 "nbformat_minor": 0,
 "metadata": {
  "colab": {
   "provenance": []
  },
  "kernelspec": {
   "name": "python3",
   "language": "python",
   "display_name": "Python 3 (ipykernel)"
  },
  "language_info": {
   "name": "python"
  }
 },
 "cells": [
  {
   "cell_type": "markdown",
   "source": [],
   "metadata": {
    "collapsed": false
   }
  },
  {
   "cell_type": "markdown",
   "source": [
    "## Importing Libraries & Loading Datasets"
   ],
   "metadata": {
    "collapsed": false
   }
  },
  {
   "cell_type": "code",
   "execution_count": 8,
   "outputs": [],
   "source": [
    "import pandas as pd\n",
    "import numpy as np\n",
    "import matplotlib.pyplot as plt\n"
   ],
   "metadata": {
    "collapsed": false,
    "ExecuteTime": {
     "end_time": "2024-01-21T12:39:21.635608Z",
     "start_time": "2024-01-21T12:39:21.061036Z"
    }
   }
  },
  {
   "cell_type": "code",
   "execution_count": 10,
   "metadata": {
    "id": "sdLT4iSoAKdk",
    "ExecuteTime": {
     "end_time": "2024-01-21T12:39:39.196127Z",
     "start_time": "2024-01-21T12:39:39.136078Z"
    }
   },
   "outputs": [
    {
     "data": {
      "text/plain": "   Unnamed: 0.1  Unnamed: 0                             Title  Rating  \\\n0             0           5           I do not recommend this       2   \n1             1          38  Total Waste of an Hour and Money       1   \n2             2          70                         Excellent       5   \n3             3         278                   Canal and wine        5   \n4             4         594       A good time and educational       5   \n\n           Author  Total profile reviews  \\\n0          Lisa N                    1.0   \n1      Jennifer B                    1.0   \n2  paularotheram1                    2.0   \n3         Niamh C                    6.0   \n4        Alissa H                    1.0   \n\n                                         Review text  \\\n0  Wij hadden de rondvaart met luxe salonboot geb...   \n1  Total waste of money.  Cruise started 15 minut...   \n2  Excellent! Knowledgable and fun. We have had a...   \n3  Good value for money. Hosts were energetic and...   \n4  Laura and Tumelo were great, so many fun stori...   \n\n               Date of visit             Date of review  \\\n0  2023-12-31 00:00:00+00:00  2023-12-02 00:00:00+00:00   \n1  2023-11-30 00:00:00+00:00  2023-11-27 00:00:00+00:00   \n2                        NaN  2023-11-26 00:00:00+00:00   \n3  2023-11-30 00:00:00+00:00  2023-11-17 00:00:00+00:00   \n4  2023-11-30 00:00:00+00:00  2023-11-04 00:00:00+00:00   \n\n                                          Response 1  \\\n0                                        No Response   \n1  Customer s: Hi there, \\n\\nThank you for taking...   \n2                                        No Response   \n3                                        No Response   \n4                                        No Response   \n\n                          Source Zip       Source File YearMonth  \\\n0  Dec 2023-20240113T072004Z-001.zip  04 Dec 2023.xlsx   2023-12   \n1  Dec 2023-20240113T072004Z-001.zip  04 Dec 2023.xlsx   2023-11   \n2  Dec 2023-20240113T072004Z-001.zip  04 Dec 2023.xlsx   2023-11   \n3  Dec 2023-20240113T072004Z-001.zip  04 Dec 2023.xlsx   2023-11   \n4  Dec 2023-20240113T072004Z-001.zip  04 Dec 2023.xlsx   2023-11   \n\n         Extracted Names  Sentiment  \\\n0                     []        1.0   \n1                     []        0.0   \n2                     []        5.0   \n3  ['Isabelle', 'Jiska']        4.5   \n4    ['Laura', 'Tumelo']        4.5   \n\n                                        Tour Package  Mentions Employee  \\\n0                        Evening Cruise - Anne Frank              False   \n1                   Evening Cruise - Central Station              False   \n2  Amsterdam Luxury Boat Canal Cruise - Anne Fran...              False   \n3                        Evening Cruise - Anne Frank               True   \n4  Luxury Canal Cruise Boat with Drinks and Chees...               True   \n\n   Review Length Sentiment Category    Flag for Response  \n0           1188           Negative      Need to Respond  \n1            777           Negative    Response Provided  \n2            135           Positive  Response Not Needed  \n3            152           Positive  Response Not Needed  \n4            138           Positive  Response Not Needed  ",
      "text/html": "<div>\n<style scoped>\n    .dataframe tbody tr th:only-of-type {\n        vertical-align: middle;\n    }\n\n    .dataframe tbody tr th {\n        vertical-align: top;\n    }\n\n    .dataframe thead th {\n        text-align: right;\n    }\n</style>\n<table border=\"1\" class=\"dataframe\">\n  <thead>\n    <tr style=\"text-align: right;\">\n      <th></th>\n      <th>Unnamed: 0.1</th>\n      <th>Unnamed: 0</th>\n      <th>Title</th>\n      <th>Rating</th>\n      <th>Author</th>\n      <th>Total profile reviews</th>\n      <th>Review text</th>\n      <th>Date of visit</th>\n      <th>Date of review</th>\n      <th>Response 1</th>\n      <th>Source Zip</th>\n      <th>Source File</th>\n      <th>YearMonth</th>\n      <th>Extracted Names</th>\n      <th>Sentiment</th>\n      <th>Tour Package</th>\n      <th>Mentions Employee</th>\n      <th>Review Length</th>\n      <th>Sentiment Category</th>\n      <th>Flag for Response</th>\n    </tr>\n  </thead>\n  <tbody>\n    <tr>\n      <th>0</th>\n      <td>0</td>\n      <td>5</td>\n      <td>I do not recommend this</td>\n      <td>2</td>\n      <td>Lisa N</td>\n      <td>1.0</td>\n      <td>Wij hadden de rondvaart met luxe salonboot geb...</td>\n      <td>2023-12-31 00:00:00+00:00</td>\n      <td>2023-12-02 00:00:00+00:00</td>\n      <td>No Response</td>\n      <td>Dec 2023-20240113T072004Z-001.zip</td>\n      <td>04 Dec 2023.xlsx</td>\n      <td>2023-12</td>\n      <td>[]</td>\n      <td>1.0</td>\n      <td>Evening Cruise - Anne Frank</td>\n      <td>False</td>\n      <td>1188</td>\n      <td>Negative</td>\n      <td>Need to Respond</td>\n    </tr>\n    <tr>\n      <th>1</th>\n      <td>1</td>\n      <td>38</td>\n      <td>Total Waste of an Hour and Money</td>\n      <td>1</td>\n      <td>Jennifer B</td>\n      <td>1.0</td>\n      <td>Total waste of money.  Cruise started 15 minut...</td>\n      <td>2023-11-30 00:00:00+00:00</td>\n      <td>2023-11-27 00:00:00+00:00</td>\n      <td>Customer s: Hi there, \\n\\nThank you for taking...</td>\n      <td>Dec 2023-20240113T072004Z-001.zip</td>\n      <td>04 Dec 2023.xlsx</td>\n      <td>2023-11</td>\n      <td>[]</td>\n      <td>0.0</td>\n      <td>Evening Cruise - Central Station</td>\n      <td>False</td>\n      <td>777</td>\n      <td>Negative</td>\n      <td>Response Provided</td>\n    </tr>\n    <tr>\n      <th>2</th>\n      <td>2</td>\n      <td>70</td>\n      <td>Excellent</td>\n      <td>5</td>\n      <td>paularotheram1</td>\n      <td>2.0</td>\n      <td>Excellent! Knowledgable and fun. We have had a...</td>\n      <td>NaN</td>\n      <td>2023-11-26 00:00:00+00:00</td>\n      <td>No Response</td>\n      <td>Dec 2023-20240113T072004Z-001.zip</td>\n      <td>04 Dec 2023.xlsx</td>\n      <td>2023-11</td>\n      <td>[]</td>\n      <td>5.0</td>\n      <td>Amsterdam Luxury Boat Canal Cruise - Anne Fran...</td>\n      <td>False</td>\n      <td>135</td>\n      <td>Positive</td>\n      <td>Response Not Needed</td>\n    </tr>\n    <tr>\n      <th>3</th>\n      <td>3</td>\n      <td>278</td>\n      <td>Canal and wine</td>\n      <td>5</td>\n      <td>Niamh C</td>\n      <td>6.0</td>\n      <td>Good value for money. Hosts were energetic and...</td>\n      <td>2023-11-30 00:00:00+00:00</td>\n      <td>2023-11-17 00:00:00+00:00</td>\n      <td>No Response</td>\n      <td>Dec 2023-20240113T072004Z-001.zip</td>\n      <td>04 Dec 2023.xlsx</td>\n      <td>2023-11</td>\n      <td>['Isabelle', 'Jiska']</td>\n      <td>4.5</td>\n      <td>Evening Cruise - Anne Frank</td>\n      <td>True</td>\n      <td>152</td>\n      <td>Positive</td>\n      <td>Response Not Needed</td>\n    </tr>\n    <tr>\n      <th>4</th>\n      <td>4</td>\n      <td>594</td>\n      <td>A good time and educational</td>\n      <td>5</td>\n      <td>Alissa H</td>\n      <td>1.0</td>\n      <td>Laura and Tumelo were great, so many fun stori...</td>\n      <td>2023-11-30 00:00:00+00:00</td>\n      <td>2023-11-04 00:00:00+00:00</td>\n      <td>No Response</td>\n      <td>Dec 2023-20240113T072004Z-001.zip</td>\n      <td>04 Dec 2023.xlsx</td>\n      <td>2023-11</td>\n      <td>['Laura', 'Tumelo']</td>\n      <td>4.5</td>\n      <td>Luxury Canal Cruise Boat with Drinks and Chees...</td>\n      <td>True</td>\n      <td>138</td>\n      <td>Positive</td>\n      <td>Response Not Needed</td>\n    </tr>\n  </tbody>\n</table>\n</div>"
     },
     "execution_count": 10,
     "metadata": {},
     "output_type": "execute_result"
    }
   ],
   "source": [
    "#Load reviews dataset\n",
    "df_data = pd.read_csv('data_without_duplicates.csv')\n",
    "df_data.head()"
   ]
  },
  {
   "cell_type": "code",
   "execution_count": 12,
   "outputs": [
    {
     "data": {
      "text/plain": "   Unnamed: 0    Name  Count\n0          33     Jim    205\n1         116  Albert    177\n2          27  Alycia    154\n3          35     Fia    136\n4          59    Roos    120",
      "text/html": "<div>\n<style scoped>\n    .dataframe tbody tr th:only-of-type {\n        vertical-align: middle;\n    }\n\n    .dataframe tbody tr th {\n        vertical-align: top;\n    }\n\n    .dataframe thead th {\n        text-align: right;\n    }\n</style>\n<table border=\"1\" class=\"dataframe\">\n  <thead>\n    <tr style=\"text-align: right;\">\n      <th></th>\n      <th>Unnamed: 0</th>\n      <th>Name</th>\n      <th>Count</th>\n    </tr>\n  </thead>\n  <tbody>\n    <tr>\n      <th>0</th>\n      <td>33</td>\n      <td>Jim</td>\n      <td>205</td>\n    </tr>\n    <tr>\n      <th>1</th>\n      <td>116</td>\n      <td>Albert</td>\n      <td>177</td>\n    </tr>\n    <tr>\n      <th>2</th>\n      <td>27</td>\n      <td>Alycia</td>\n      <td>154</td>\n    </tr>\n    <tr>\n      <th>3</th>\n      <td>35</td>\n      <td>Fia</td>\n      <td>136</td>\n    </tr>\n    <tr>\n      <th>4</th>\n      <td>59</td>\n      <td>Roos</td>\n      <td>120</td>\n    </tr>\n  </tbody>\n</table>\n</div>"
     },
     "execution_count": 12,
     "metadata": {},
     "output_type": "execute_result"
    }
   ],
   "source": [
    "#Load names dataset\n",
    "df_names = pd.read_csv('extracted_names.csv')\n",
    "df_names.head()"
   ],
   "metadata": {
    "collapsed": false,
    "ExecuteTime": {
     "end_time": "2024-01-21T12:40:49.569881Z",
     "start_time": "2024-01-21T12:40:49.558729Z"
    }
   }
  },
  {
   "cell_type": "markdown",
   "source": [
    "## KPIs"
   ],
   "metadata": {
    "collapsed": false
   }
  },
  {
   "cell_type": "markdown",
   "source": [],
   "metadata": {
    "collapsed": false
   }
  },
  {
   "cell_type": "markdown",
   "source": [
    "### Reviews KPIs:\n",
    "\n",
    "##### 1. Overall Satisfaction Analysis (average sentiment across all reviews, average sentiment per type of tour package)\n",
    "##### 2. Correlation between review length and rating; review length and sentiment score\n",
    "##### 3. Correlation between review rating and employee mentions"
   ],
   "metadata": {
    "collapsed": false
   }
  },
  {
   "cell_type": "code",
   "execution_count": 25,
   "outputs": [
    {
     "name": "stdout",
     "output_type": "stream",
     "text": [
      "Average sentiment across reviews: 4.624179757407039\n",
      "Average sentiment per type of tour packages:\n",
      "Tour Package\n",
      "Amsterdam Luxury Boat Canal Cruise - Anne Frank House                4.620968\n",
      "Amsterdam Luxury Boat Canal Cruise - Central Station                 4.620370\n",
      "Amsterdam Luxury Boat Canal Cruise - Rijkmuseum                      4.631884\n",
      "Evening Cruise - Anne Frank                                          4.607771\n",
      "Evening Cruise - Central Station                                     4.638812\n",
      "Luxury Canal Cruise Boat with Drinks and Cheese - Anne Frank         4.599030\n",
      "Luxury Canal Cruise Boat with Drinks and Cheese - Central Station    4.650492\n",
      "Name: Sentiment, dtype: float64\n",
      "Average rating per type of tour packages:\n",
      "Tour Package\n",
      "Amsterdam Luxury Boat Canal Cruise - Anne Frank House                4.884409\n",
      "Amsterdam Luxury Boat Canal Cruise - Central Station                 4.895503\n",
      "Amsterdam Luxury Boat Canal Cruise - Rijkmuseum                      4.904348\n",
      "Evening Cruise - Anne Frank                                          4.897361\n",
      "Evening Cruise - Central Station                                     4.892265\n",
      "Luxury Canal Cruise Boat with Drinks and Cheese - Anne Frank         4.898892\n",
      "Luxury Canal Cruise Boat with Drinks and Cheese - Central Station    4.915612\n",
      "Name: Rating, dtype: float64\n"
     ]
    }
   ],
   "source": [
    "# Average sentiment score across all reviews\n",
    "print(f\"Average sentiment across reviews: {df_data['Sentiment'].mean()}\")\n",
    "\n",
    "#Average sentiment score per type of tour package\n",
    "print(\"Average sentiment per type of tour packages:\")\n",
    "print(df_data.groupby('Tour Package')['Sentiment'].mean())\n",
    "\n",
    "#Average rating score per type of tour package\n",
    "print(\"Average rating per type of tour packages:\")\n",
    "print(df_data.groupby('Tour Package')['Rating'].mean())"
   ],
   "metadata": {
    "collapsed": false,
    "ExecuteTime": {
     "end_time": "2024-01-22T18:57:43.479622Z",
     "start_time": "2024-01-22T18:57:43.462256Z"
    }
   }
  },
  {
   "cell_type": "code",
   "execution_count": 27,
   "outputs": [
    {
     "name": "stdout",
     "output_type": "stream",
     "text": [
      "Correlation between review length and rating: -0.35964134080024923\n",
      "Correlation between review length and sentiment score: -0.30751787129351893\n",
      "Correlation between review rating and employee mentions: 0.2439315073128441\n"
     ]
    }
   ],
   "source": [
    "# Correlation between review length and rating\n",
    "print(f\"Correlation between review length and rating: {df_data['Review Length'].corr(df_data['Rating'])}\")\n",
    "\n",
    "#Correlation between review length and sentiment score\n",
    "print(f\"Correlation between review length and sentiment score: {df_data['Review Length'].corr(df_data['Sentiment'])}\")\n",
    "\n",
    "#Correlation between review rating and employee mentions\n",
    "print(f\"Correlation between review rating and employee mentions: {df_data['Rating'].corr(df_data['Mentions Employee'])}\")\n"
   ],
   "metadata": {
    "collapsed": false,
    "ExecuteTime": {
     "end_time": "2024-01-22T19:05:58.274921Z",
     "start_time": "2024-01-22T19:05:58.269151Z"
    }
   }
  }
 ]
}
